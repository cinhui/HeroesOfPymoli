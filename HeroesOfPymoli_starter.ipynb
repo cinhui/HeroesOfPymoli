{
 "cells": [
  {
   "cell_type": "markdown",
   "metadata": {},
   "source": [
    "### Heroes Of Pymoli Data Analysis\n",
    "* Of the 1163 active players, the vast majority are male (84%). There also exists, a smaller, but notable proportion of female players (14%).\n",
    "\n",
    "* Our peak age demographic falls between 20-24 (44.8%) with secondary groups falling between 15-19 (18.60%) and 25-29 (13.4%).  \n",
    "-----"
   ]
  },
  {
   "cell_type": "markdown",
   "metadata": {},
   "source": [
    "### Note\n",
    "* Instructions have been included for each segment. You do not have to follow them exactly, but they are included to help you think through the steps."
   ]
  },
  {
   "cell_type": "code",
   "execution_count": null,
   "metadata": {},
   "outputs": [],
   "source": [
    "# Dependencies and Setup\n",
    "import pandas as pd\n",
    "import numpy as np\n",
    "\n",
    "# File to Load (Remember to Change These)\n",
    "file_to_load = \"Resources/purchase_data.csv\"\n",
    "\n",
    "# Read Purchasing File and store into Pandas data frame\n",
    "purchase_data = pd.read_csv(file_to_load)"
   ]
  },
  {
   "cell_type": "code",
   "execution_count": 2,
   "metadata": {},
   "outputs": [],
   "source": [
    "purchase_data.head()"
   ]
  },
  {
   "cell_type": "markdown",
   "metadata": {},
   "source": [
    "## Player Count"
   ]
  },
  {
   "cell_type": "markdown",
   "metadata": {},
   "source": [
    "* Display the total number of players\n"
   ]
  },
  {
   "cell_type": "code",
   "execution_count": null,
   "metadata": {},
   "outputs": [],
   "source": [
    "#total_players = len(purchase_data[\"SN\"].value_counts())\n",
    "total_players = pd.DataFrame({\"SN\":purchase_data[\"SN\"].unique()})\n",
    "num_total_players = len(total_players)\n",
    "num_total_players"
   ]
  },
  {
   "cell_type": "code",
   "execution_count": null,
   "metadata": {},
   "outputs": [],
   "source": []
  },
  {
   "cell_type": "markdown",
   "metadata": {},
   "source": [
    "## Purchasing Analysis (Total)"
   ]
  },
  {
   "cell_type": "markdown",
   "metadata": {},
   "source": [
    "* Run basic calculations to obtain number of unique items, average price, etc.\n",
    "\n",
    "\n",
    "* Create a summary data frame to hold the results\n",
    "\n",
    "\n",
    "* Optional: give the displayed data cleaner formatting\n",
    "\n",
    "\n",
    "* Display the summary data frame\n"
   ]
  },
  {
   "cell_type": "code",
   "execution_count": null,
   "metadata": {},
   "outputs": [],
   "source": [
    "unique_items = purchase_data[\"Item ID\"].value_counts()\n",
    "unique_items.head()\n",
    "num_of_unique_items = len(unique_items)\n",
    "num_of_unique_items\n",
    "num_purchases = len(purchase_data)\n",
    "num_purchases\n",
    "total_revenue = sum(purchase_data[\"Price\"])\n",
    "average_price = (total_revenue/num_purchases)\n",
    "df_summary = pd.DataFrame({'Number of Unique Items':[num_of_unique_items], \n",
    "                           'Average Price':[average_price],\n",
    "                           'Number of Purchases':[num_purchases],\n",
    "                           'Total Revenue':[total_revenue]})\n",
    "df_summary['Average Price'] = df_summary['Average Price'].astype(float).map(\"${:.2f}\".format)\n",
    "df_summary['Total Revenue'] = df_summary['Total Revenue'].astype(float).map(\"${:,.2f}\".format)\n",
    "df_summary"
   ]
  },
  {
   "cell_type": "code",
   "execution_count": null,
   "metadata": {
    "scrolled": true
   },
   "outputs": [],
   "source": []
  },
  {
   "cell_type": "markdown",
   "metadata": {},
   "source": [
    "## Gender Demographics"
   ]
  },
  {
   "cell_type": "markdown",
   "metadata": {},
   "source": [
    "* Percentage and Count of Male Players\n",
    "\n",
    "\n",
    "* Percentage and Count of Female Players\n",
    "\n",
    "\n",
    "* Percentage and Count of Other / Non-Disclosed\n",
    "\n",
    "\n"
   ]
  },
  {
   "cell_type": "code",
   "execution_count": null,
   "metadata": {},
   "outputs": [],
   "source": [
    "player_demographics = pd.DataFrame(purchase_data.groupby([\"Gender\"]).nunique()[\"SN\"])\n",
    "player_demographics = player_demographics.rename(columns={\"SN\": \"Total Count\"})\n",
    "player_demographics[\"Percentage of Players\"] = 100*player_demographics[\"Total Count\"]/num_total_players\n",
    "player_demographics[\"Percentage of Players\"] = player_demographics[\"Percentage of Players\"].map(\"{:.2f}%\".format)\n",
    "player_demographics"
   ]
  },
  {
   "cell_type": "code",
   "execution_count": null,
   "metadata": {},
   "outputs": [],
   "source": []
  },
  {
   "cell_type": "markdown",
   "metadata": {},
   "source": [
    "\n",
    "## Purchasing Analysis (Gender)"
   ]
  },
  {
   "cell_type": "markdown",
   "metadata": {},
   "source": [
    "* Run basic calculations to obtain purchase count, avg. purchase price, avg. purchase total per person etc. by gender\n",
    "\n",
    "\n",
    "\n",
    "\n",
    "* Create a summary data frame to hold the results\n",
    "\n",
    "\n",
    "* Optional: give the displayed data cleaner formatting\n",
    "\n",
    "\n",
    "* Display the summary data frame"
   ]
  },
  {
   "cell_type": "code",
   "execution_count": null,
   "metadata": {},
   "outputs": [],
   "source": [
    "purchase_data_by_gender = purchase_data.groupby([\"Gender\"])\n",
    "purchase_count = purchase_data_by_gender[\"Purchase ID\"].count()\n",
    "average_purchase_price = purchase_data_by_gender[\"Price\"].mean()\n",
    "total_purchase_value = purchase_data_by_gender[\"Price\"].sum()\n",
    "average_total_purchase = purchase_data_by_gender[\"Price\"].sum()/player_demographics[\"Total Count\"]\n",
    "df_gender_summary = pd.DataFrame({\"Purchase Count\":purchase_count,\n",
    "                                  'Average Purchase Price':average_purchase_price,\n",
    "                                  'Total Purchase Value':total_purchase_value,\n",
    "                                  'Avg Total Purchase per Person':average_total_purchase})\n",
    "df_gender_summary['Average Purchase Price'] = df_gender_summary['Average Purchase Price'].map(\"${:,.2f}\".format)\n",
    "df_gender_summary['Total Purchase Value'] = df_gender_summary['Total Purchase Value'].map(\"${:,.2f}\".format)\n",
    "df_gender_summary['Avg Total Purchase per Person'] = df_gender_summary['Avg Total Purchase per Person'].map(\"${:,.2f}\".format)\n",
    "df_gender_summary"
   ]
  },
  {
   "cell_type": "code",
   "execution_count": null,
   "metadata": {},
   "outputs": [],
   "source": []
  },
  {
   "cell_type": "markdown",
   "metadata": {},
   "source": [
    "## Age Demographics"
   ]
  },
  {
   "cell_type": "markdown",
   "metadata": {},
   "source": [
    "* Establish bins for ages\n",
    "\n",
    "\n",
    "* Categorize the existing players using the age bins. Hint: use pd.cut()\n",
    "\n",
    "\n",
    "* Calculate the numbers and percentages by age group\n",
    "\n",
    "\n",
    "* Create a summary data frame to hold the results\n",
    "\n",
    "\n",
    "* Optional: round the percentage column to two decimal points\n",
    "\n",
    "\n",
    "* Display Age Demographics Table\n"
   ]
  },
  {
   "cell_type": "code",
   "execution_count": null,
   "metadata": {},
   "outputs": [],
   "source": [
    "bins = [0,9,14,19,24,29,34,39,100]\n",
    "bin_labels = [\"<10\",\"10-14\",\"15-19\",\"20-24\",\"25-29\",\"30-34\",\"35-39\",\"40+\"]\n",
    "players_df = purchase_data[[\"SN\",\"Age\"]]\n",
    "players_df = players_df.drop_duplicates(\"SN\")\n",
    "players_df[\"Age Group\"] = pd.cut(players_df[\"Age\"],bins,labels=bin_labels)\n",
    "players_age_group = players_df.groupby(\"Age Group\").count()\n",
    "players_age_group = players_age_group[[\"Age\"]]\n",
    "players_age_group = players_age_group.rename(columns={\"Age\":\"Total Count\"})\n",
    "players_age_group[\"Percentage of Players\"] = 100*players_age_group[\"Total Count\"]/num_total_players\n",
    "players_age_group[\"Percentage of Players\"] = players_age_group[\"Percentage of Players\"].map(\"{:0.2f}\".format)\n",
    "players_age_group"
   ]
  },
  {
   "cell_type": "code",
   "execution_count": null,
   "metadata": {},
   "outputs": [],
   "source": []
  },
  {
   "cell_type": "markdown",
   "metadata": {},
   "source": [
    "## Purchasing Analysis (Age)"
   ]
  },
  {
   "cell_type": "markdown",
   "metadata": {},
   "source": [
    "* Bin the purchase_data data frame by age\n",
    "\n",
    "\n",
    "* Run basic calculations to obtain purchase count, avg. purchase price, avg. purchase total per person etc. in the table below\n",
    "\n",
    "\n",
    "* Create a summary data frame to hold the results\n",
    "\n",
    "\n",
    "* Optional: give the displayed data cleaner formatting\n",
    "\n",
    "\n",
    "* Display the summary data frame"
   ]
  },
  {
   "cell_type": "code",
   "execution_count": null,
   "metadata": {},
   "outputs": [],
   "source": [
    "purchase_data[\"Age Group\"] = pd.cut(purchase_data[\"Age\"],bins,labels = bin_labels)\n",
    "age_purchase_count = purchase_data.groupby(\"Age Group\")[\"Price\"].count()\n",
    "age_avg_purchase_price = purchase_data.groupby(\"Age Group\")[\"Price\"].mean()\n",
    "age_total_purchase_value = purchase_data.groupby(\"Age Group\")[\"Price\"].sum()\n",
    "age_total_purchase_person = purchase_data.groupby(\"Age Group\")[\"Price\"].sum()/players_age_group[\"Total Count\"]\n",
    "age_group_purchase_df = pd.DataFrame({\"Purchase Count\":age_purchase_count,\n",
    "                            \"Average Purchase Price\":age_avg_purchase_price.map(\"${:.2f}\".format),\n",
    "                           \"Total Purchase Value\":age_total_purchase_value.map(\"${:,.2f}\".format),\n",
    "                                     \"Avg Total Purchase per Person\":age_total_purchase_person.map(\"${:.2f}\".format)})\n",
    "age_group_purchase_df"
   ]
  },
  {
   "cell_type": "code",
   "execution_count": null,
   "metadata": {},
   "outputs": [],
   "source": []
  },
  {
   "cell_type": "markdown",
   "metadata": {},
   "source": [
    "## Top Spenders"
   ]
  },
  {
   "cell_type": "markdown",
   "metadata": {},
   "source": [
    "* Run basic calculations to obtain the results in the table below\n",
    "\n",
    "\n",
    "* Create a summary data frame to hold the results\n",
    "\n",
    "\n",
    "* Sort the total purchase value column in descending order\n",
    "\n",
    "\n",
    "* Optional: give the displayed data cleaner formatting\n",
    "\n",
    "\n",
    "* Display a preview of the summary data frame\n",
    "\n"
   ]
  },
  {
   "cell_type": "code",
   "execution_count": null,
   "metadata": {},
   "outputs": [],
   "source": [
    "sn_purchase_count = purchase_data.groupby(\"SN\")[\"Purchase ID\"].count()\n",
    "sn_avg_purchase_price = purchase_data.groupby(\"SN\")[\"Price\"].mean()\n",
    "sn_total_purchase_value = purchase_data.groupby(\"SN\")[\"Price\"].sum()\n",
    "spenders_df = pd.DataFrame({\"Purchase Count\":sn_purchase_count,\n",
    "                            \"Average Purchase Price\":sn_avg_purchase_price,\n",
    "                           \"Total Purchase Value\":sn_total_purchase_value})\n",
    "top_five_spenders = spenders_df.sort_values(\"Total Purchase Value\",ascending=False).head(5)\n",
    "top_five_spenders[\"Average Purchase Price\"] = top_five_spenders[\"Average Purchase Price\"].map(\"${:.2f}\".format)\n",
    "top_five_spenders[\"Total Purchase Value\"] = top_five_spenders[\"Total Purchase Value\"].map(\"${:.2f}\".format)\n",
    "top_five_spenders"
   ]
  },
  {
   "cell_type": "code",
   "execution_count": null,
   "metadata": {},
   "outputs": [],
   "source": []
  },
  {
   "cell_type": "markdown",
   "metadata": {},
   "source": [
    "## Most Popular Items"
   ]
  },
  {
   "cell_type": "markdown",
   "metadata": {},
   "source": [
    "* Retrieve the Item ID, Item Name, and Item Price columns\n",
    "\n",
    "\n",
    "* Group by Item ID and Item Name. Perform calculations to obtain purchase count, item price, and total purchase value\n",
    "\n",
    "\n",
    "* Create a summary data frame to hold the results\n",
    "\n",
    "\n",
    "* Sort the purchase count column in descending order\n",
    "\n",
    "\n",
    "* Optional: give the displayed data cleaner formatting\n",
    "\n",
    "\n",
    "* Display a preview of the summary data frame\n",
    "\n"
   ]
  },
  {
   "cell_type": "code",
   "execution_count": null,
   "metadata": {},
   "outputs": [],
   "source": [
    "items = purchase_data[[\"Item ID\",\"Item Name\",\"Price\"]]\n",
    "items_groupby = items.groupby([\"Item ID\",\"Item Name\"])\n",
    "item_purchase_count = items_groupby[\"Item ID\"].count()\n",
    "item_price = items_groupby[\"Price\"].mean()\n",
    "item_total_purchase_value = items_groupby[\"Price\"].sum()\n",
    "items_df = pd.DataFrame({\"Purchase Count\":item_purchase_count,\n",
    "                         \"Item Price\":item_price,\n",
    "                         \"Total Purchase Value\":item_total_purchase_value})\n",
    "five_popular_items = items_df.sort_values(\"Purchase Count\",ascending=False).head(5)\n",
    "five_popular_items[\"Item Price\"] = five_popular_items[\"Item Price\"].map(\"${:.02f}\".format)\n",
    "five_popular_items[\"Total Purchase Value\"] = five_popular_items[\"Total Purchase Value\"].map(\"${:.02f}\".format)\n",
    "five_popular_items"
   ]
  },
  {
   "cell_type": "markdown",
   "metadata": {},
   "source": []
  },
  {
   "cell_type": "markdown",
   "metadata": {},
   "source": [
    "## Most Profitable Items"
   ]
  },
  {
   "cell_type": "markdown",
   "metadata": {},
   "source": [
    "* Sort the above table by total purchase value in descending order\n",
    "\n",
    "\n",
    "* Optional: give the displayed data cleaner formatting\n",
    "\n",
    "\n",
    "* Display a preview of the data frame\n",
    "\n"
   ]
  },
  {
   "cell_type": "code",
   "execution_count": null,
   "metadata": {},
   "outputs": [],
   "source": [
    "five_profitable_items = items_df.sort_values(\"Total Purchase Value\",ascending=False).head(5)\n",
    "five_profitable_items[\"Item Price\"] = five_profitable_items[\"Item Price\"].map(\"${:.02f}\".format)\n",
    "five_profitable_items[\"Total Purchase Value\"] = five_profitable_items[\"Total Purchase Value\"].map(\"${:.02f}\".format)\n",
    "five_profitable_items"
   ]
  },
  {
   "cell_type": "code",
   "execution_count": null,
   "metadata": {
    "scrolled": true
   },
   "outputs": [],
   "source": []
  },
  {
   "cell_type": "code",
   "execution_count": null,
   "metadata": {},
   "outputs": [],
   "source": []
  }
 ],
 "metadata": {
  "anaconda-cloud": {},
  "kernel_info": {
   "name": "python3"
  },
  "kernelspec": {
   "display_name": "Python 3",
   "language": "python",
   "name": "python3"
  },
  "language_info": {
   "codemirror_mode": {
    "name": "ipython",
    "version": 3
   },
   "file_extension": ".py",
   "mimetype": "text/x-python",
   "name": "python",
   "nbconvert_exporter": "python",
   "pygments_lexer": "ipython3",
   "version": "3.7.1"
  },
  "nteract": {
   "version": "0.2.0"
  }
 },
 "nbformat": 4,
 "nbformat_minor": 2
}
